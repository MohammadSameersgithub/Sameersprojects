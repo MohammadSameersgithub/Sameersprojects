{
 "cells": [
  {
   "cell_type": "markdown",
   "metadata": {},
   "source": [
    "# #INCOME_QUALIFICATION_PROJECT, MACHINE LEARNING BY\n",
    "# #MOHAMMAD SAMEER UDDIN"
   ]
  },
  {
   "cell_type": "raw",
   "metadata": {},
   "source": [
    "### The following actions has been performed:\n",
    "# Identify the output variable.\n",
    "# Understand the type of data.\n",
    "# Check if there are any biases in your dataset.\n",
    "# Check whether all members of the house have the same poverty level.\n",
    "# Check if there is a house without a family head.\n",
    "# Set poverty level of the members and the head of the house within a family.\n",
    "# Count how many null values are existing in columns.\n",
    "# Remove null value rows of the target variable.\n",
    "# Predict the accuracy using random forest classifier.\n",
    "# Check the accuracy using random forest with cross validation."
   ]
  },
  {
   "cell_type": "code",
   "execution_count": 1,
   "metadata": {},
   "outputs": [
    {
     "name": "stdout",
     "output_type": "stream",
     "text": [
      "1.18.2\n",
      "0.24.2\n",
      "1.1.5\n",
      "0.11.2\n",
      "3.5.1\n"
     ]
    }
   ],
   "source": [
    "import numpy as np                ### version:  1.18.2\n",
    "import pandas as pd               ### version:  1.0.3\n",
    "import matplotlib.pyplot as plt   ### version:  3.5.1 \n",
    "import seaborn as sn              ### version:  1.0.3\n",
    "import warnings\n",
    "warnings.filterwarnings('ignore')\n",
    "\n",
    "print(np.__version__)\n",
    "import sklearn\n",
    "print(sklearn.__version__)\n",
    "print(pd.__version__)\n",
    "print(sn.__version__)\n",
    "import matplotlib\n",
    "print(matplotlib.__version__)"
   ]
  },
  {
   "cell_type": "markdown",
   "metadata": {},
   "source": [
    "# 1. Identify the output variable."
   ]
  },
  {
   "cell_type": "code",
   "execution_count": 2,
   "metadata": {},
   "outputs": [
    {
     "name": "stdout",
     "output_type": "stream",
     "text": [
      "Index(['Id', 'v2a1', 'hacdor', 'rooms', 'hacapo', 'v14a', 'refrig', 'v18q',\n",
      "       'v18q1', 'r4h1',\n",
      "       ...\n",
      "       'SQBescolari', 'SQBage', 'SQBhogar_total', 'SQBedjefe', 'SQBhogar_nin',\n",
      "       'SQBovercrowding', 'SQBdependency', 'SQBmeaned', 'agesq', 'Target'],\n",
      "      dtype='object', length=143)\n",
      "Index(['Id', 'v2a1', 'hacdor', 'rooms', 'hacapo', 'v14a', 'refrig', 'v18q',\n",
      "       'v18q1', 'r4h1',\n",
      "       ...\n",
      "       'age', 'SQBescolari', 'SQBage', 'SQBhogar_total', 'SQBedjefe',\n",
      "       'SQBhogar_nin', 'SQBovercrowding', 'SQBdependency', 'SQBmeaned',\n",
      "       'agesq'],\n",
      "      dtype='object', length=142)\n"
     ]
    }
   ],
   "source": [
    "# Train and test datasets are saved as 'Train_income.csv', 'Test_income.csv' and read as shown below\n",
    "df_train = pd.read_csv('Train_income.csv')\n",
    "df_test = pd.read_csv('Test_income.csv')\n",
    "# Clearly the ouput variable is 'Target' column only available in train data set\n",
    "print(df_train.columns)\n",
    "print(df_test.columns)"
   ]
  },
  {
   "cell_type": "markdown",
   "metadata": {},
   "source": [
    "# 2. Understand the type of data"
   ]
  },
  {
   "cell_type": "code",
   "execution_count": 3,
   "metadata": {},
   "outputs": [
    {
     "name": "stdout",
     "output_type": "stream",
     "text": [
      "<class 'pandas.core.frame.DataFrame'>\n",
      "RangeIndex: 9557 entries, 0 to 9556\n",
      "Columns: 143 entries, Id to Target\n",
      "dtypes: float64(8), int64(130), object(5)\n",
      "memory usage: 10.4+ MB\n",
      "None\n"
     ]
    }
   ],
   "source": [
    "df_train.head(3)\n",
    "print(df_train.info())"
   ]
  },
  {
   "cell_type": "raw",
   "metadata": {},
   "source": [
    "## Before I jump to check the bias in the data, lets fill the NA values in the dataset for data consistency"
   ]
  },
  {
   "cell_type": "code",
   "execution_count": 5,
   "metadata": {},
   "outputs": [
    {
     "data": {
      "text/plain": [
       "Id                    0\n",
       "v2a1               6860\n",
       "hacdor                0\n",
       "rooms                 0\n",
       "hacapo                0\n",
       "                   ... \n",
       "SQBovercrowding       0\n",
       "SQBdependency         0\n",
       "SQBmeaned             5\n",
       "agesq                 0\n",
       "Target                0\n",
       "Length: 143, dtype: int64"
      ]
     },
     "execution_count": 5,
     "metadata": {},
     "output_type": "execute_result"
    }
   ],
   "source": [
    "df_train.isna().sum()"
   ]
  },
  {
   "cell_type": "markdown",
   "metadata": {},
   "source": [
    "# 7. Count how many null values are existing in columns."
   ]
  },
  {
   "cell_type": "code",
   "execution_count": 31,
   "metadata": {},
   "outputs": [
    {
     "name": "stdout",
     "output_type": "stream",
     "text": [
      "null values for float type data in train set\n",
      "v2a1               6860\n",
      "v18q1              7342\n",
      "rez_esc            7928\n",
      "meaneduc              5\n",
      "overcrowding          0\n",
      "SQBovercrowding       0\n",
      "SQBdependency         0\n",
      "SQBmeaned             5\n",
      "dtype: int64\n",
      "null values for float type data in test set\n",
      "v2a1               17403\n",
      "v18q1              18126\n",
      "rez_esc            19653\n",
      "meaneduc              31\n",
      "overcrowding           0\n",
      "SQBovercrowding        0\n",
      "SQBdependency          0\n",
      "SQBmeaned             31\n",
      "dtype: int64\n",
      "null values for object type data in train set\n",
      "Id            0\n",
      "idhogar       0\n",
      "dependency    0\n",
      "edjefe        0\n",
      "edjefa        0\n",
      "dtype: int64\n",
      "null values for object type data in test set\n",
      "Id            0\n",
      "idhogar       0\n",
      "dependency    0\n",
      "edjefe        0\n",
      "edjefa        0\n",
      "dtype: int64\n",
      "null values for int type data in train set\n",
      "hacdor            0\n",
      "rooms             0\n",
      "hacapo            0\n",
      "v14a              0\n",
      "refrig            0\n",
      "                 ..\n",
      "SQBhogar_total    0\n",
      "SQBedjefe         0\n",
      "SQBhogar_nin      0\n",
      "agesq             0\n",
      "Target            0\n",
      "Length: 130, dtype: int64\n",
      "null values for int type data in test set\n",
      "hacdor            0\n",
      "rooms             0\n",
      "hacapo            0\n",
      "v14a              0\n",
      "refrig            0\n",
      "                 ..\n",
      "SQBage            0\n",
      "SQBhogar_total    0\n",
      "SQBedjefe         0\n",
      "SQBhogar_nin      0\n",
      "agesq             0\n",
      "Length: 129, dtype: int64\n"
     ]
    }
   ],
   "source": [
    "float_type_train = df_train.select_dtypes('float64')\n",
    "print('null values for float type data in train set')\n",
    "print(float_type_train.isna().sum())\n",
    "print('null values for float type data in test set')\n",
    "float_type_test = df_test.select_dtypes('float64')\n",
    "print(float_type_test.isna().sum())\n",
    "\n",
    "object_type_train = df_train.select_dtypes('object')\n",
    "print('null values for object type data in train set')\n",
    "print(object_type_train.isna().sum())\n",
    "print('null values for object type data in test set')\n",
    "object_type_test = df_test.select_dtypes('object')\n",
    "print(object_type_test.isna().sum())\n",
    "\n",
    "int_type_train = df_train.select_dtypes('int64')\n",
    "print('null values for int type data in train set')\n",
    "print(int_type_train.isna().sum())\n",
    "print('null values for int type data in test set')\n",
    "int_type_test = df_test.select_dtypes('int64')\n",
    "print(int_type_test.isna().sum())"
   ]
  },
  {
   "cell_type": "markdown",
   "metadata": {},
   "source": [
    "# #Missing values handling"
   ]
  },
  {
   "cell_type": "raw",
   "metadata": {},
   "source": [
    "# Filling the null values in v2a1 which species monthly rent pay, \n",
    "# lets first check if the family owns a house if yes in what type\n",
    "# The column which species about the house ownership are as follows\n",
    "# ['tipovivi1','tipovivi2','tipovivi3','tipovivi4','tipovivi5']\n",
    "# The follwing are the columns which are related to Monthly rent payment\n",
    "# tipovivi1, =1 own and fully paid house\n",
    "# tipovivi2, \"=1 own,  paying in installments\"\n",
    "# tipovivi3, =1 rented\n",
    "# tipovivi4, =1 precarious \n",
    "# tipovivi5, \"=1 other(assigned,  borrowed)\""
   ]
  },
  {
   "cell_type": "code",
   "execution_count": 32,
   "metadata": {},
   "outputs": [
    {
     "name": "stdout",
     "output_type": "stream",
     "text": [
      "0 null values of column of v2a1 in train set\n",
      "0 null values of column of v2a1 in test set\n",
      "0    7342\n",
      "1    2215\n",
      "Name: v18q, dtype: int64\n",
      "0 null values of column of v18q1 in train set\n",
      "0 null values of column of v18q1 in test set\n",
      "count    1629.000000\n",
      "mean       12.258441\n",
      "std         3.218325\n",
      "min         7.000000\n",
      "25%         9.000000\n",
      "50%        12.000000\n",
      "75%        15.000000\n",
      "max        17.000000\n",
      "Name: age, dtype: float64\n",
      "count    7928.000000\n",
      "mean       38.833249\n",
      "std        20.989486\n",
      "min         0.000000\n",
      "25%        24.000000\n",
      "50%        38.000000\n",
      "75%        54.000000\n",
      "max        97.000000\n",
      "Name: age, dtype: float64\n",
      "0 null values of column of rez_esc in train set\n",
      "0 null values of column of rez_esc in test set\n",
      "['no' '8' 'yes' '3' '.5' '.25' '2' '.66666669' '.33333334' '1.5'\n",
      " '.40000001' '.75' '1.25' '.2' '2.5' '1.2' '4' '1.3333334' '2.25'\n",
      " '.22222222' '5' '.83333331' '.80000001' '6' '3.5' '1.6666666' '.2857143'\n",
      " '1.75' '.71428573' '.16666667' '.60000002']\n",
      "Dependency column with no mixed type data: [0.         8.         1.         3.         0.5        0.25\n",
      " 2.         0.66666669 0.33333334 1.5        0.40000001 0.75\n",
      " 1.25       0.2        2.5        1.2        4.         1.3333334\n",
      " 2.25       0.22222222 5.         0.83333331 0.80000001 6.\n",
      " 3.5        1.6666666  0.2857143  1.75       0.71428573 0.16666667\n",
      " 0.60000002]\n",
      "edjefe column with no mixed type data: [10. 12.  0. 11.  9. 15.  4.  6.  8. 17.  7. 16. 14.  5. 21.  2. 19.  1.\n",
      "  3. 18. 13. 20.]\n",
      "edjefa column with no mixed type data: [ 0. 11.  4. 10.  9. 15.  7. 14. 13.  8. 17.  6.  5.  3. 16. 19.  1. 21.\n",
      " 12.  2. 20. 18.]\n",
      "0 null values of column of meaneduc in train set\n",
      "0 null values of column of meaneduc in test set\n",
      "0 null values of column of SQBmeaned in train set\n",
      "0 null values of column of SQBmeaned in test set\n"
     ]
    }
   ],
   "source": [
    "columns = ['tipovivi1','tipovivi2','tipovivi3','tipovivi4','tipovivi5']\n",
    "\n",
    "df_train.loc[df_train['v2a1'].isna(), columns].sum()\n",
    "\n",
    "# clearly the one who owns the house would not pay the rent so lets fill na by 0 value\n",
    "\n",
    "df_train['v2a1'].fillna(0, inplace = True)\n",
    "df_test['v2a1'].fillna(0, inplace = True)\n",
    "print('{} null values of column of v2a1 in train set'.format(df_train['v2a1'].isna().sum()))\n",
    "print('{} null values of column of v2a1 in test set'.format(df_test['v2a1'].isna().sum()))\n",
    "\n",
    "df_train['v2a1'].describe()\n",
    "\n",
    "df_train['v2a1'].isna().sum()\n",
    "\n",
    "# v18q  - Owns a talets\n",
    "# v18q1 - no. of tablets own\n",
    "# clearly if 7342 is not owned by any family then v18q1 value should be '0'\n",
    "# let check first if v18q values to be 0 for no tablets owned and fill accordingly the value 0\n",
    "\n",
    "print(df_train['v18q'].value_counts())\n",
    "\n",
    "# there are 7342 families who doesnt hold a tablets so lets fill v18q1 by 0\n",
    "\n",
    "df_train['v18q1'].fillna(0, inplace = True)\n",
    "df_test['v18q1'].fillna(0, inplace = True)\n",
    "print('{} null values of column of v18q1 in train set'.format(df_train['v18q1'].isna().sum()))\n",
    "print('{} null values of column of v18q1 in test set'.format(df_test['v18q1'].isna().sum()))\n",
    "\n",
    "# lets check the age which is no of years behind with and wihout the null values in rez_esc \n",
    "\n",
    "print(df_train[df_train['rez_esc'].notna()]['age'].describe())\n",
    "print(df_train[df_train['rez_esc'].isna()]['age'].describe())\n",
    "\n",
    "# Clearly if you see the count 1629(rez_esc without NA values) + 7928((rez_esc with NA values)) = 9557 but records are 9556\n",
    "# Which means there is one such value with null rez_esc and also age range in between 7 and 17, which explains that there are no values inplace\n",
    "# NA values which means we can fill tha NA with '0'\n",
    "df_train[(df_train['age']>7)&(df_train['age']<17)&(df_train['rez_esc'].isna())]['age']\n",
    "\n",
    "# The family ID: ID_f012e4242, with age btn 7 and 17 and rez_esc value null\n",
    "\n",
    "df_train[(df_train['age'] ==10) & df_train['rez_esc'].isna()].head()\n",
    "\n",
    "df_train[df_train['age'] ==10]['rez_esc'].unique()\n",
    "\n",
    "df_train['rez_esc'].fillna(0, inplace = True)\n",
    "df_test['rez_esc'].fillna(0, inplace = True)\n",
    "print('{} null values of column of rez_esc in train set'.format(df_train['rez_esc'].isna().sum()))\n",
    "print('{} null values of column of rez_esc in test set'.format(df_test['rez_esc'].isna().sum()))\n",
    "\n",
    "## There are few columns ['dependency','edjefe','edjefa'] with mixed values to be cleaned\n",
    "\n",
    "print(df_train['dependency'].unique())   # some categorical values also exists lets fill them\n",
    "\n",
    "# From above we see that rest other type of values are either int or float type, lets make them float type using dictionary\n",
    "\n",
    "filling_dic = {'yes':1, 'no':0}\n",
    "for x in (df_train, df_test):\n",
    "    x['dependency'] = x['dependency'].replace(filling_dic).astype(np.float64)\n",
    "    x['edjefe'] = x['edjefe'].replace(filling_dic).astype(np.float64)\n",
    "    x['edjefa'] = x['edjefa'].replace(filling_dic).astype(np.float64)\n",
    "\n",
    "print('Dependency column with no mixed type data:', df_train['dependency'].unique())\n",
    "print('edjefe column with no mixed type data:', df_train['edjefe'].unique())\n",
    "print('edjefa column with no mixed type data:', df_train['edjefa'].unique())\n",
    "\n",
    "# lets fill na values in 'meaneduc' column\n",
    "# for that 'instlevel1' column is very relevant to mean education\n",
    "# meaneduc,average years of education for adults (18+)\n",
    "# instlevel1, =1 no level of education\n",
    "# SQBmeaned, square of the mean years of education of adults (>=18) in the household\n",
    "# 'instlevel1', if this columns values is 0 means no education which means no meaneduc and SQBmeaned as well.\n",
    "\n",
    "df_train[df_train['meaneduc'].isna()]['instlevel1']\n",
    "\n",
    "# clearly, meaneduc values in NA places should be 0\n",
    "\n",
    "df_train['meaneduc'].fillna(0, inplace = True)\n",
    "df_test['meaneduc'].fillna(0, inplace = True)\n",
    "print('{} null values of column of meaneduc in train set'.format(df_train['meaneduc'].isna().sum()))\n",
    "print('{} null values of column of meaneduc in test set'.format(df_test['meaneduc'].isna().sum()))\n",
    "\n",
    "df_train['SQBmeaned'].fillna(0, inplace = True)\n",
    "df_test['SQBmeaned'].fillna(0, inplace = True)\n",
    "print('{} null values of column of SQBmeaned in train set'.format(df_train['SQBmeaned'].isna().sum()))\n",
    "print('{} null values of column of SQBmeaned in test set'.format(df_test['SQBmeaned'].isna().sum()))"
   ]
  },
  {
   "cell_type": "raw",
   "metadata": {},
   "source": [
    "# Now our dataset is free from null values, except target column"
   ]
  },
  {
   "cell_type": "markdown",
   "metadata": {},
   "source": [
    "# 4. Check whether all members of the house have the same poverty level."
   ]
  },
  {
   "cell_type": "code",
   "execution_count": 33,
   "metadata": {},
   "outputs": [
    {
     "name": "stdout",
     "output_type": "stream",
     "text": [
      "Total no of families are: 2988\n",
      "There are 85 familes whose members are having different poverty levels\n",
      "2988\n"
     ]
    },
    {
     "data": {
      "text/plain": [
       "idhogar\n",
       "001ff74ca    1\n",
       "003123ec2    1\n",
       "004616164    1\n",
       "004983866    1\n",
       "005905417    1\n",
       "Name: parentesco1, dtype: int64"
      ]
     },
     "execution_count": 33,
     "metadata": {},
     "output_type": "execute_result"
    }
   ],
   "source": [
    "print('Total no of families are: {}'.format(len(df_train.groupby(['idhogar']))))\n",
    "\n",
    "## Target columns are also having missing values to be filled as per the head poverty levels\n",
    "\n",
    "# lets check the families with different target levels\n",
    "family_target = df_train.groupby(['idhogar'], as_index=True)['Target'].apply(lambda x: x.nunique()==1)\n",
    "same_target = family_target[family_target==True]\n",
    "different_target = family_target[family_target==False]\n",
    "print('There are {} familes whose members are having different poverty levels'.format(len(different_target)))\n",
    "\n",
    "# lets looks at one as such\n",
    "# parentesco1, 1 if household head\n",
    "df_train[df_train['idhogar'] == different_target.index[1]][['idhogar','Target','parentesco1']]\n",
    "\n",
    "family_with_and_without_head = df_train.groupby(['idhogar'])['parentesco1'].sum()\n",
    "print(len(family_with_and_without_head))\n",
    "\n",
    "family_with_and_without_head[0:5]"
   ]
  },
  {
   "cell_type": "markdown",
   "metadata": {},
   "source": [
    "# 5. Check if there is a house without a family head."
   ]
  },
  {
   "cell_type": "code",
   "execution_count": 34,
   "metadata": {},
   "outputs": [
    {
     "name": "stdout",
     "output_type": "stream",
     "text": [
      "Households without a family head: 15\n",
      "The no of families without head are: 15\n",
      "Families without a head and Target value are different are: False\n"
     ]
    }
   ],
   "source": [
    "family_with_head = family_with_and_without_head[family_with_and_without_head==1]\n",
    "family_without_head = family_with_and_without_head[family_with_and_without_head==0]\n",
    "print('Households without a family head: {}'.format(len(family_without_head)))\n",
    "\n",
    "family_without_head[0:5]\n",
    "\n",
    "family_without_head = df_train.loc[df_train['idhogar']\n",
    "                                   .isin(family_without_head.index), :]\n",
    "print('The no of families without head are: {}'.format(len(family_without_head['idhogar'].unique())))\n",
    "\n",
    "# Families without a head and Target value different are:\n",
    "\n",
    "print('Families without a head and Target value are different are: {}'\n",
    "      .format(family_without_head.groupby(['idhogar'])['Target']\n",
    "      .apply(lambda x: x.nunique==1).any()))"
   ]
  },
  {
   "cell_type": "markdown",
   "metadata": {},
   "source": [
    "# 6. Set poverty level of the members and the head of the house within a family."
   ]
  },
  {
   "cell_type": "code",
   "execution_count": 35,
   "metadata": {},
   "outputs": [
    {
     "name": "stdout",
     "output_type": "stream",
     "text": [
      "There are 0 familes whose members are having different poverty levels\n"
     ]
    },
    {
     "data": {
      "text/plain": [
       "(9557, 143)"
      ]
     },
     "execution_count": 35,
     "metadata": {},
     "output_type": "execute_result"
    }
   ],
   "source": [
    "for household in different_target.index:\n",
    "    act_target = df_train.loc[(df_train['idhogar']==household)&(df_train['parentesco1']==1), 'Target']\n",
    "    df_train.loc[(df_train['idhogar']==household),'Target'] = act_target\n",
    "\n",
    "# Now lets check again the families with different target levels by repeating the same code  as earlier\n",
    "family_target = df_train.groupby(['idhogar'], as_index=True)['Target'].apply(lambda x: x.nunique()==1)\n",
    "same_target = family_target[family_target==True]\n",
    "different_target = family_target[family_target==False]\n",
    "print('There are {} familes whose members are having different poverty levels'.format(len(different_target)))\n",
    "\n",
    "df_train.shape"
   ]
  },
  {
   "cell_type": "markdown",
   "metadata": {},
   "source": [
    "# 3. Check if there are any biases in your dataset."
   ]
  },
  {
   "cell_type": "code",
   "execution_count": 36,
   "metadata": {},
   "outputs": [
    {
     "name": "stdout",
     "output_type": "stream",
     "text": [
      "1.0     723\n",
      "2.0    1467\n",
      "3.0    1138\n",
      "4.0    5979\n",
      "Name: Target, dtype: int64\n",
      "1.0     222\n",
      "2.0     442\n",
      "3.0     355\n",
      "4.0    1954\n",
      "Name: Target, dtype: int64\n",
      "AxesSubplot(0.125,0.125;0.775x0.755)\n"
     ]
    },
    {
     "data": {
      "image/png": "[encoded data removed]",
      "text/plain": [
       "<Figure size 720x360 with 1 Axes>"
      ]
     },
     "metadata": {
      "needs_background": "light"
     },
     "output_type": "display_data"
    },
    {
     "name": "stdout",
     "output_type": "stream",
     "text": [
      "(9557, 143)\n",
      "(9557, 128)\n",
      "(23856, 127)\n"
     ]
    }
   ],
   "source": [
    "print(df_train['Target'].value_counts().sort_index())\n",
    "\n",
    "target_heads = df_train.loc[(df_train['parentesco1']==1)&df_train['Target']]\n",
    "\n",
    "print(target_heads['Target'].value_counts().sort_index())\n",
    "\n",
    "## 1 = extreme poverty, 2 = moderate poverty, 3 = vulnerable households, 4 = non vulnerable households\n",
    "plt.figure(figsize = (10,5))\n",
    "print(sn.barplot(target_heads['Target'].value_counts().index, target_heads['Target'].value_counts()))\n",
    "plt.legend(labels=[\"1 = extreme poverty\", \"2 = moderate poverty\",\"3 = vulnerable households\",\"4 = non vulnerable households\"]\n",
    "           , loc =\"upper left\")\n",
    "plt.title('Poverty level of families with head')\n",
    "plt.show()\n",
    "\n",
    "## clearly the data seems to be unbalnced, i.e., biased\n",
    "\n",
    "## lets look at the columns which are not necessary and also drop them off from the datasets\n",
    "## clearly the squared columns are no really necessary as we dont have the negative values in any of the features so:\n",
    "## ['SQBescolari','SQBage', 'SQBhogar_total','SQBedjefe','SQBhogar_nin','SQBovercrowding','SQBdependency','SQBmeaned','agesq']\n",
    "## and the unique values for the identity purposes like \n",
    "## ['Id', 'idhogar'] are not even necessary since to avoid extra features\n",
    "## and look at the area1 and area2 there columns are representonf urban and rural areas so one is sufficient to define them so ## lets remove area2 only cause it also has values 2 those donot signifies.\n",
    "## ['tamhog', 'tamviv','r4t3'], since, hogar_total, 'tamviv', 'r4t3' represents the same so one os enough & 'hhsize', 'tamhog'\n",
    "## are the same and one is enough\n",
    "\n",
    "print(df_train.shape)\n",
    "\n",
    "drop_columns = ['Id', 'idhogar','SQBescolari', 'SQBage', 'SQBhogar_total', 'SQBedjefe', \n",
    "        'SQBhogar_nin', 'SQBovercrowding', 'SQBdependency', 'SQBmeaned', 'agesq','area2','tamhog', 'tamviv','r4t3']\n",
    "for x in (df_train, df_test):\n",
    "    x.drop(columns=drop_columns, inplace = True)\n",
    "\n",
    "print(df_train.shape)\n",
    "print(df_test.shape)"
   ]
  },
  {
   "cell_type": "markdown",
   "metadata": {},
   "source": [
    "# 8. Remove null value rows of the target variable."
   ]
  },
  {
   "cell_type": "code",
   "execution_count": 37,
   "metadata": {},
   "outputs": [
    {
     "name": "stdout",
     "output_type": "stream",
     "text": [
      "The size of train set before dropping rows with Target with NA: (9557, 128)\n",
      "The size of train set after dropping rows with Target with NA: (9307, 128)\n"
     ]
    }
   ],
   "source": [
    "# Before this we have few null values in Target columns, so we need to drop them\n",
    "print('The size of train set before dropping rows with Target with NA: {}'.format(df_train.shape))\n",
    "df_train.dropna(axis = 0, inplace = True)\n",
    "print('The size of train set after dropping rows with Target with NA: {}'.format(df_train.shape))\n",
    "\n",
    "from sklearn.model_selection import train_test_split\n",
    "x = df_train.drop(['Target'], axis = 1)\n",
    "y = df_train['Target']\n",
    "\n",
    "xtrain,xtest,ytrain,ytest = train_test_split(x,y,train_size = 0.75,random_state = 2)"
   ]
  },
  {
   "cell_type": "code",
   "execution_count": 38,
   "metadata": {},
   "outputs": [
    {
     "name": "stdout",
     "output_type": "stream",
     "text": [
      "Size of the x_features train dataset is (6980, 127)\n",
      "Size of the x_features test dataset is (2327, 127)\n",
      "Size of the y_feature train dataset is (6980,)\n",
      "Size of the y_feature test dataset is (2327,)\n"
     ]
    }
   ],
   "source": [
    "print('Size of the x_features train dataset is {}'.format(xtrain.shape))\n",
    "print('Size of the x_features test dataset is {}'.format(xtest.shape))\n",
    "print('Size of the y_feature train dataset is {}'.format(ytrain.shape))\n",
    "print('Size of the y_feature test dataset is {}'.format(ytest.shape))"
   ]
  },
  {
   "cell_type": "raw",
   "metadata": {},
   "source": [
    "# Now our data is completely cleaned and is ready for analysis"
   ]
  },
  {
   "cell_type": "markdown",
   "metadata": {},
   "source": [
    "# 9. Predict the accuracy using random forest classifier."
   ]
  },
  {
   "cell_type": "code",
   "execution_count": 39,
   "metadata": {},
   "outputs": [
    {
     "name": "stdout",
     "output_type": "stream",
     "text": [
      "Accuracy Score after fitting a RandomForestClassifier: 92.60850880962613 %\n",
      "confusion_matrix for the model:\n",
      " [[ 147    1    0    0]\n",
      " [   1  288    5    5]\n",
      " [   2    1  196    1]\n",
      " [  29   58   69 1524]]\n"
     ]
    }
   ],
   "source": [
    "from sklearn.ensemble import RandomForestClassifier\n",
    "\n",
    "model_rfc = RandomForestClassifier()\n",
    "\n",
    "model_rfc.fit(xtrain,ytrain)\n",
    "\n",
    "ytrainpred = model_rfc.predict(xtrain)\n",
    "\n",
    "from sklearn.metrics import accuracy_score, confusion_matrix\n",
    "\n",
    "ytestpred = model_rfc.predict(xtest)\n",
    "\n",
    "print('Accuracy Score after fitting a RandomForestClassifier: {} %'.format(accuracy_score(ytestpred,ytest)*100))\n",
    "\n",
    "print('confusion_matrix for the model:\\n {}'.format(confusion_matrix(ytestpred,ytest)))\n",
    "\n",
    "y_test_prediction = model_rfc.predict(df_test)\n",
    "\n",
    "df_test['Target'] = y_test_prediction\n",
    "\n",
    "## writing the dataset with the prediction on test set\n",
    "## df_test.to_csv('Income_Qualification_Poverty_predictions.csv')"
   ]
  },
  {
   "cell_type": "markdown",
   "metadata": {},
   "source": [
    "# 10. Check the accuracy using random forest with cross validation."
   ]
  },
  {
   "cell_type": "code",
   "execution_count": 40,
   "metadata": {},
   "outputs": [
    {
     "data": {
      "image/png": "[encoded data removed]",
      "text/plain": [
       "<Figure size 1080x648 with 1 Axes>"
      ]
     },
     "metadata": {
      "needs_background": "light"
     },
     "output_type": "display_data"
    },
    {
     "name": "stdout",
     "output_type": "stream",
     "text": [
      "mean accuracy is attained for 6 no. of folds is: 91.08883195984632 %\n"
     ]
    }
   ],
   "source": [
    "from sklearn.model_selection import KFold, cross_val_score\n",
    "kfolds = KFold(n_splits = 6)\n",
    "outcomes = cross_val_score(model_rfc, xtrain,ytrain,cv=kfolds)\n",
    "plt.figure(figsize = (15,9))\n",
    "plt.plot(outcomes)\n",
    "plt.title(\"no.of folds v accuracies using cross validation\")\n",
    "plt.xlabel('no of folds')\n",
    "plt.ylabel('accuracies using cross val')\n",
    "plt.show()\n",
    "print('mean accuracy is attained for 6 no. of folds is: {} %'.format(np.mean(outcomes)*100))"
   ]
  },
  {
   "cell_type": "raw",
   "metadata": {},
   "source": [
    "# From above we can conclude that if we split the dataset by 6 folds we couldnt accomplish better accurary using Random Forest classifier with Cross validation method of splitting the data.\n",
    "# For this type of dataset it is better to go with train test split selection method, since we get better accuracy in this method"
   ]
  },
  {
   "cell_type": "code",
   "execution_count": null,
   "metadata": {},
   "outputs": [],
   "source": []
  }
 ],
 "metadata": {
  "kernelspec": {
   "display_name": "Python 3",
   "language": "python",
   "name": "python3"
  },
  "language_info": {
   "codemirror_mode": {
    "name": "ipython",
    "version": 3
   },
   "file_extension": ".py",
   "mimetype": "text/x-python",
   "name": "python",
   "nbconvert_exporter": "python",
   "pygments_lexer": "ipython3",
   "version": "3.7.6"
  }
 },
 "nbformat": 4,
 "nbformat_minor": 4
}
